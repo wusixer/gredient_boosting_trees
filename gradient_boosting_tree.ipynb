{
 "cells": [
  {
   "cell_type": "markdown",
   "metadata": {},
   "source": [
    "# Using gradient boosting trees to predict medical insurance charges "
   ]
  },
  {
   "cell_type": "markdown",
   "metadata": {},
   "source": [
    "#### dataset is taken from Kaggle: https://www.kaggle.com/mirichoi0218/insurance.  "
   ]
  },
  {
   "cell_type": "markdown",
   "metadata": {},
   "source": [
    "## Conclusions\n",
    "- Smoking status is the #1 predictor of medical insurance charges, followed by BMI and age\n",
    "- Geographical locations and age do not seem to play big roles in predicting medical insurance charges\n",
    "- The prediction is more accurate on smokers vs. non-smokers. \n",
    "- Although the loss (MSE) on validation set was not tiny after training on the training set, the perforamnce on test set showed a comparable loss.\n",
    "- Gradient boosting tree predicted a slightly higher insurance charege than the real values in test set. \n",
    "- Other regression based/non-regression based algorithms can be tested to see which method works the best for this problem. "
   ]
  },
  {
   "cell_type": "code",
   "execution_count": 21,
   "metadata": {},
   "outputs": [],
   "source": [
    "import numpy as np \n",
    "import pandas as pd \n",
    "import matplotlib.pyplot as pl\n",
    "import seaborn as sns\n",
    "from scipy.stats import mannwhitneyu"
   ]
  },
  {
   "cell_type": "code",
   "execution_count": 22,
   "metadata": {},
   "outputs": [
    {
     "data": {
      "text/html": [
       "<div>\n",
       "<style scoped>\n",
       "    .dataframe tbody tr th:only-of-type {\n",
       "        vertical-align: middle;\n",
       "    }\n",
       "\n",
       "    .dataframe tbody tr th {\n",
       "        vertical-align: top;\n",
       "    }\n",
       "\n",
       "    .dataframe thead th {\n",
       "        text-align: right;\n",
       "    }\n",
       "</style>\n",
       "<table border=\"1\" class=\"dataframe\">\n",
       "  <thead>\n",
       "    <tr style=\"text-align: right;\">\n",
       "      <th></th>\n",
       "      <th>age</th>\n",
       "      <th>sex</th>\n",
       "      <th>bmi</th>\n",
       "      <th>children</th>\n",
       "      <th>smoker</th>\n",
       "      <th>region</th>\n",
       "      <th>charges</th>\n",
       "    </tr>\n",
       "  </thead>\n",
       "  <tbody>\n",
       "    <tr>\n",
       "      <td>0</td>\n",
       "      <td>19</td>\n",
       "      <td>female</td>\n",
       "      <td>27.900</td>\n",
       "      <td>0</td>\n",
       "      <td>yes</td>\n",
       "      <td>southwest</td>\n",
       "      <td>16884.92400</td>\n",
       "    </tr>\n",
       "    <tr>\n",
       "      <td>1</td>\n",
       "      <td>18</td>\n",
       "      <td>male</td>\n",
       "      <td>33.770</td>\n",
       "      <td>1</td>\n",
       "      <td>no</td>\n",
       "      <td>southeast</td>\n",
       "      <td>1725.55230</td>\n",
       "    </tr>\n",
       "    <tr>\n",
       "      <td>2</td>\n",
       "      <td>28</td>\n",
       "      <td>male</td>\n",
       "      <td>33.000</td>\n",
       "      <td>3</td>\n",
       "      <td>no</td>\n",
       "      <td>southeast</td>\n",
       "      <td>4449.46200</td>\n",
       "    </tr>\n",
       "    <tr>\n",
       "      <td>3</td>\n",
       "      <td>33</td>\n",
       "      <td>male</td>\n",
       "      <td>22.705</td>\n",
       "      <td>0</td>\n",
       "      <td>no</td>\n",
       "      <td>northwest</td>\n",
       "      <td>21984.47061</td>\n",
       "    </tr>\n",
       "    <tr>\n",
       "      <td>4</td>\n",
       "      <td>32</td>\n",
       "      <td>male</td>\n",
       "      <td>28.880</td>\n",
       "      <td>0</td>\n",
       "      <td>no</td>\n",
       "      <td>northwest</td>\n",
       "      <td>3866.85520</td>\n",
       "    </tr>\n",
       "  </tbody>\n",
       "</table>\n",
       "</div>"
      ],
      "text/plain": [
       "   age     sex     bmi  children smoker     region      charges\n",
       "0   19  female  27.900         0    yes  southwest  16884.92400\n",
       "1   18    male  33.770         1     no  southeast   1725.55230\n",
       "2   28    male  33.000         3     no  southeast   4449.46200\n",
       "3   33    male  22.705         0     no  northwest  21984.47061\n",
       "4   32    male  28.880         0     no  northwest   3866.85520"
      ]
     },
     "execution_count": 22,
     "metadata": {},
     "output_type": "execute_result"
    }
   ],
   "source": [
    "data = pd.read_csv('insurance.csv')\n",
    "data.head()"
   ]
  },
  {
   "cell_type": "code",
   "execution_count": 23,
   "metadata": {},
   "outputs": [
    {
     "data": {
      "text/plain": [
       "age         0\n",
       "sex         0\n",
       "bmi         0\n",
       "children    0\n",
       "smoker      0\n",
       "region      0\n",
       "charges     0\n",
       "dtype: int64"
      ]
     },
     "execution_count": 23,
     "metadata": {},
     "output_type": "execute_result"
    }
   ],
   "source": [
    "# get the number of NAs in each column\n",
    "data.isnull().sum()"
   ]
  },
  {
   "cell_type": "code",
   "execution_count": 24,
   "metadata": {},
   "outputs": [
    {
     "name": "stdout",
     "output_type": "stream",
     "text": [
      "# of sex\n",
      " male      676\n",
      "female    662\n",
      "Name: sex, dtype: int64\n",
      "# of children\n",
      " 0    574\n",
      "1    324\n",
      "2    240\n",
      "3    157\n",
      "4     25\n",
      "5     18\n",
      "Name: children, dtype: int64\n",
      "# of smokers\n",
      " no     1064\n",
      "yes     274\n",
      "Name: smoker, dtype: int64\n",
      "# of region\n",
      " southeast    364\n",
      "northwest    325\n",
      "southwest    325\n",
      "northeast    324\n",
      "Name: region, dtype: int64\n"
     ]
    }
   ],
   "source": [
    "#get an idea of categorical variable distribution\n",
    "print('# of sex\\n',data.sex.value_counts())\n",
    "print('# of children\\n', data.children.value_counts())\n",
    "print('# of smokers\\n', data.smoker.value_counts())\n",
    "print('# of region\\n', data.region.value_counts())"
   ]
  },
  {
   "cell_type": "markdown",
   "metadata": {},
   "source": [
    "### recode binary/categorical variables to numerical"
   ]
  },
  {
   "cell_type": "code",
   "execution_count": 25,
   "metadata": {},
   "outputs": [],
   "source": [
    "#data.iloc[:, ['sex','smoker','region']] = data.iloc[:, ['sex','smoker','region']].astype(int)\n",
    "data['Sex'] = data['sex'].map({'male':1, 'female':0})\n",
    "data['Smoker'] = data['smoker'].map({'yes':1, 'no':0})\n",
    "data_region = pd.get_dummies(data.region, prefix='region')\n",
    "data = data.drop(columns = ['sex', 'smoker', 'region'])"
   ]
  },
  {
   "cell_type": "code",
   "execution_count": 26,
   "metadata": {},
   "outputs": [
    {
     "data": {
      "text/html": [
       "<div>\n",
       "<style scoped>\n",
       "    .dataframe tbody tr th:only-of-type {\n",
       "        vertical-align: middle;\n",
       "    }\n",
       "\n",
       "    .dataframe tbody tr th {\n",
       "        vertical-align: top;\n",
       "    }\n",
       "\n",
       "    .dataframe thead th {\n",
       "        text-align: right;\n",
       "    }\n",
       "</style>\n",
       "<table border=\"1\" class=\"dataframe\">\n",
       "  <thead>\n",
       "    <tr style=\"text-align: right;\">\n",
       "      <th></th>\n",
       "      <th>age</th>\n",
       "      <th>bmi</th>\n",
       "      <th>children</th>\n",
       "      <th>charges</th>\n",
       "      <th>Sex</th>\n",
       "      <th>Smoker</th>\n",
       "      <th>region_northeast</th>\n",
       "      <th>region_northwest</th>\n",
       "      <th>region_southeast</th>\n",
       "      <th>region_southwest</th>\n",
       "    </tr>\n",
       "  </thead>\n",
       "  <tbody>\n",
       "    <tr>\n",
       "      <td>0</td>\n",
       "      <td>19</td>\n",
       "      <td>27.900</td>\n",
       "      <td>0</td>\n",
       "      <td>16884.92400</td>\n",
       "      <td>0</td>\n",
       "      <td>1</td>\n",
       "      <td>0</td>\n",
       "      <td>0</td>\n",
       "      <td>0</td>\n",
       "      <td>1</td>\n",
       "    </tr>\n",
       "    <tr>\n",
       "      <td>1</td>\n",
       "      <td>18</td>\n",
       "      <td>33.770</td>\n",
       "      <td>1</td>\n",
       "      <td>1725.55230</td>\n",
       "      <td>1</td>\n",
       "      <td>0</td>\n",
       "      <td>0</td>\n",
       "      <td>0</td>\n",
       "      <td>1</td>\n",
       "      <td>0</td>\n",
       "    </tr>\n",
       "    <tr>\n",
       "      <td>2</td>\n",
       "      <td>28</td>\n",
       "      <td>33.000</td>\n",
       "      <td>3</td>\n",
       "      <td>4449.46200</td>\n",
       "      <td>1</td>\n",
       "      <td>0</td>\n",
       "      <td>0</td>\n",
       "      <td>0</td>\n",
       "      <td>1</td>\n",
       "      <td>0</td>\n",
       "    </tr>\n",
       "    <tr>\n",
       "      <td>3</td>\n",
       "      <td>33</td>\n",
       "      <td>22.705</td>\n",
       "      <td>0</td>\n",
       "      <td>21984.47061</td>\n",
       "      <td>1</td>\n",
       "      <td>0</td>\n",
       "      <td>0</td>\n",
       "      <td>1</td>\n",
       "      <td>0</td>\n",
       "      <td>0</td>\n",
       "    </tr>\n",
       "    <tr>\n",
       "      <td>4</td>\n",
       "      <td>32</td>\n",
       "      <td>28.880</td>\n",
       "      <td>0</td>\n",
       "      <td>3866.85520</td>\n",
       "      <td>1</td>\n",
       "      <td>0</td>\n",
       "      <td>0</td>\n",
       "      <td>1</td>\n",
       "      <td>0</td>\n",
       "      <td>0</td>\n",
       "    </tr>\n",
       "  </tbody>\n",
       "</table>\n",
       "</div>"
      ],
      "text/plain": [
       "   age     bmi  children      charges  Sex  Smoker  region_northeast  \\\n",
       "0   19  27.900         0  16884.92400    0       1                 0   \n",
       "1   18  33.770         1   1725.55230    1       0                 0   \n",
       "2   28  33.000         3   4449.46200    1       0                 0   \n",
       "3   33  22.705         0  21984.47061    1       0                 0   \n",
       "4   32  28.880         0   3866.85520    1       0                 0   \n",
       "\n",
       "   region_northwest  region_southeast  region_southwest  \n",
       "0                 0                 0                 1  \n",
       "1                 0                 1                 0  \n",
       "2                 0                 1                 0  \n",
       "3                 1                 0                 0  \n",
       "4                 1                 0                 0  "
      ]
     },
     "execution_count": 26,
     "metadata": {},
     "output_type": "execute_result"
    }
   ],
   "source": [
    "data_x_name = data.columns.to_list() + data_region.columns.to_list()\n",
    "data_x = pd.concat([data, data_region],  axis =1, names=data_x_name)\n",
    "data_x.head()"
   ]
  },
  {
   "cell_type": "code",
   "execution_count": 27,
   "metadata": {},
   "outputs": [
    {
     "data": {
      "text/plain": [
       "(1338, 10)"
      ]
     },
     "execution_count": 27,
     "metadata": {},
     "output_type": "execute_result"
    }
   ],
   "source": [
    "data_x.shape"
   ]
  },
  {
   "cell_type": "markdown",
   "metadata": {},
   "source": [
    "## data visualization"
   ]
  },
  {
   "cell_type": "markdown",
   "metadata": {},
   "source": [
    "#### distribution of the outcome: charges"
   ]
  },
  {
   "cell_type": "code",
   "execution_count": 28,
   "metadata": {},
   "outputs": [
    {
     "data": {
      "text/plain": [
       "Text(0, 0.5, 'frequency')"
      ]
     },
     "execution_count": 28,
     "metadata": {},
     "output_type": "execute_result"
    },
    {
     "data": {
      "image/png": "[encoded data removed]",
      "text/plain": [
       "<Figure size 432x288 with 1 Axes>"
      ]
     },
     "metadata": {
      "needs_background": "light"
     },
     "output_type": "display_data"
    }
   ],
   "source": [
    "import matplotlib.pyplot as plt\n",
    "data_x['charges'].plot.hist(grid=True, bins=20, rwidth=0.9,\n",
    "                   color='#607c8e')\n",
    "plt.title('Charges for 1,338 people')\n",
    "plt.xlabel('charges')\n",
    "plt.ylabel('frequency')\n",
    "#plt.grid(axis='y', alpha=0.75)"
   ]
  },
  {
   "cell_type": "markdown",
   "metadata": {},
   "source": [
    "#### correlation patterns of continous variables -  looks like the influence of factors are in this order: age > bmi >children"
   ]
  },
  {
   "cell_type": "code",
   "execution_count": 29,
   "metadata": {},
   "outputs": [
    {
     "data": {
      "text/plain": [
       "<matplotlib.axes._subplots.AxesSubplot at 0x1069f8b50>"
      ]
     },
     "execution_count": 29,
     "metadata": {},
     "output_type": "execute_result"
    },
    {
     "data": {
      "image/png": "[encoded data removed]",
      "text/plain": [
       "<Figure size 720x576 with 2 Axes>"
      ]
     },
     "metadata": {
      "needs_background": "light"
     },
     "output_type": "display_data"
    }
   ],
   "source": [
    "f, ax = pl.subplots(figsize=(10, 8))\n",
    "corr = data.loc[:, ['age', 'bmi','charges','children']].corr()\n",
    "sns.heatmap(corr, mask=np.zeros_like(corr, dtype=np.bool), cmap=sns.diverging_palette(240,10,as_cmap=True),\n",
    "            square=True, ax=ax)"
   ]
  },
  {
   "cell_type": "markdown",
   "metadata": {},
   "source": [
    "#### mannwhitney U test to see what categorical variables are associated with the outcome (ANOVA is not used since the outcome doesn't seem to be normally distributed)"
   ]
  },
  {
   "cell_type": "code",
   "execution_count": 30,
   "metadata": {},
   "outputs": [
    {
     "name": "stdout",
     "output_type": "stream",
     "text": [
      "Smoker 5.270233444503571e-130\n"
     ]
    }
   ],
   "source": [
    "for var in ['Sex', 'Smoker',\n",
    "       'region_northeast', 'region_northwest', 'region_southeast',\n",
    "       'region_southwest']:\n",
    "    data_x_group_a = data_x['charges'][data_x[var]==0]\n",
    "    data_x_group_b = data_x['charges'][data_x[var]==1]\n",
    "    _, p = mannwhitneyu(data_x_group_a, data_x_group_b, alternative = \"two-sided\")\n",
    "    if p <0.05:\n",
    "        print(var, p)"
   ]
  },
  {
   "cell_type": "markdown",
   "metadata": {},
   "source": [
    "### split data for gradient boosting trees"
   ]
  },
  {
   "cell_type": "code",
   "execution_count": 31,
   "metadata": {},
   "outputs": [
    {
     "name": "stdout",
     "output_type": "stream",
     "text": [
      "(1338, 9) (1338,)\n"
     ]
    }
   ],
   "source": [
    "X = data_x.drop(columns = ['charges'])\n",
    "y = data_x['charges']\n",
    "print(X.shape, y.shape)"
   ]
  },
  {
   "cell_type": "code",
   "execution_count": 32,
   "metadata": {},
   "outputs": [
    {
     "name": "stdout",
     "output_type": "stream",
     "text": [
      "(966, 9) (966,) (171, 9) (171,) (201, 9) (201,)\n"
     ]
    }
   ],
   "source": [
    "from sklearn.ensemble import GradientBoostingRegressor\n",
    "from sklearn.model_selection import train_test_split\n",
    "from sklearn.metrics import mean_squared_error\n",
    "X_train_val, X_test, y_train_val, y_test = train_test_split(\n",
    "   X, y, test_size=0.15, random_state=0)\n",
    "X_train, X_val, y_train, y_val = train_test_split(\n",
    "   X_train_val, y_train_val, test_size=0.15, random_state=0)\n",
    "print(X_train.shape,  y_train.shape, X_val.shape, y_val.shape, X_test.shape,y_test.shape)"
   ]
  },
  {
   "cell_type": "markdown",
   "metadata": {},
   "source": [
    "### Look at the learning rate's influence on accuracy in validation set"
   ]
  },
  {
   "cell_type": "code",
   "execution_count": 33,
   "metadata": {},
   "outputs": [
    {
     "data": {
      "image/png": "[encoded data removed]",
      "text/plain": [
       "<Figure size 432x288 with 1 Axes>"
      ]
     },
     "metadata": {
      "needs_background": "light"
     },
     "output_type": "display_data"
    }
   ],
   "source": [
    "original_params = {'loss' : 'ls','n_estimators': 100, 'max_leaf_nodes': None, 'max_depth': 10, 'random_state': 2,\n",
    "                   'min_samples_split': 5,'subsample': 1.0}\n",
    "\n",
    "plt.figure()\n",
    "\n",
    "for label, color, setting in [('learning_rate=0.1', 'orange',\n",
    "                               {'learning_rate': 0.1}),\n",
    "                              ('learning_rate=0.2', 'turquoise',\n",
    "                               {'learning_rate': 0.2}),\n",
    "                              ('learning_rate=0.5', 'blue',\n",
    "                               {'learning_rate': 0.5}),\n",
    "                              ('learning_rate=0.8', 'gray',\n",
    "                               {'learning_rate': 0.8}),\n",
    "                              ('learning_rate=1', 'magenta',\n",
    "                               {'learning_rate': 1})]:\n",
    "    params = original_params\n",
    "    params.update(setting)\n",
    "\n",
    "    reg = GradientBoostingRegressor(**params)\n",
    "    reg.fit(X_train, y_train)\n",
    "\n",
    "    # compute test set loss\n",
    "    val_mse = np.zeros((params['n_estimators'],), dtype=np.float64)\n",
    "\n",
    "    for i, y_pred in enumerate(reg.staged_predict(X_val)):\n",
    "        # clf.loss_ assumes that y_test[i] in {0, 1}\n",
    "        val_mse[i] = reg.loss_(y_val, y_pred)\n",
    "        \n",
    "\n",
    "    plt.plot((np.arange(val_mse.shape[0]) + 1)[::5], val_mse[::5],\n",
    "            '-', color=color, label=label)\n",
    "\n",
    "plt.legend(loc='upper right')\n",
    "plt.xlabel('Boosting Iterations')\n",
    "plt.ylabel('Val Set MSE')\n",
    "\n",
    "plt.show()"
   ]
  },
  {
   "cell_type": "markdown",
   "metadata": {},
   "source": [
    "##### Learning rate =0.1 seemed ideal "
   ]
  },
  {
   "cell_type": "markdown",
   "metadata": {},
   "source": [
    "### look at the influence of max_depth in validation set"
   ]
  },
  {
   "cell_type": "code",
   "execution_count": 35,
   "metadata": {},
   "outputs": [
    {
     "data": {
      "image/png": "[encoded data removed]",
      "text/plain": [
       "<Figure size 432x288 with 1 Axes>"
      ]
     },
     "metadata": {
      "needs_background": "light"
     },
     "output_type": "display_data"
    }
   ],
   "source": [
    "original_params = {'loss' : 'ls','n_estimators': 100, 'max_leaf_nodes': None, 'max_depth': 10, 'random_state': 2,\n",
    "                   'min_samples_split': 5,'subsample': 1.0, 'learning_rate': 0.1}\n",
    "\n",
    "plt.figure()\n",
    "\n",
    "for label, color, setting in [('max_depth=5', 'orange',\n",
    "                               {'max_depth': 5}),\n",
    "                              ('max_depth=10', 'turquoise',\n",
    "                               {'max_depth': 10}),\n",
    "                              ('max_depth=15', 'blue',\n",
    "                               {'max_depth': 15}),\n",
    "                              ('max_depth=20', 'gray',\n",
    "                               {'max_depth': 20})\n",
    "                                ]:\n",
    "    params = original_params\n",
    "    params.update(setting)\n",
    "\n",
    "    reg = GradientBoostingRegressor(**params)\n",
    "    reg.fit(X_train, y_train)\n",
    "\n",
    "    # compute test set loss\n",
    "    val_mse = np.zeros((params['n_estimators'],), dtype=np.float64)\n",
    "\n",
    "    for i, y_pred in enumerate(reg.staged_predict(X_val)):\n",
    "        # clf.loss_ assumes that y_test[i] in {0, 1}\n",
    "        val_mse[i] = reg.loss_(y_val, y_pred)\n",
    "\n",
    "    plt.plot((np.arange(val_mse.shape[0]) + 1)[::5], val_mse[::5],\n",
    "            '-', color=color, label=label)\n",
    "\n",
    "plt.legend(loc='upper right')\n",
    "plt.xlabel('Boosting Iterations')\n",
    "plt.ylabel('Test Set MSE')\n",
    "\n",
    "plt.show()"
   ]
  },
  {
   "cell_type": "markdown",
   "metadata": {},
   "source": [
    "#### max_depth as 5 seemed ideal, although there is a slight overfitting"
   ]
  },
  {
   "cell_type": "markdown",
   "metadata": {},
   "source": [
    "## make predition on test set"
   ]
  },
  {
   "cell_type": "code",
   "execution_count": 36,
   "metadata": {},
   "outputs": [
    {
     "name": "stdout",
     "output_type": "stream",
     "text": [
      "the test set mse is 39364610.03138133\n"
     ]
    }
   ],
   "source": [
    "original_params = {'loss' : 'ls','n_estimators': 90, 'max_leaf_nodes': None, 'max_depth': 5, 'random_state': 2,\n",
    "                   'min_samples_split': 5,'subsample': 1.0, 'learning_rate': 0.1}\n",
    "reg = GradientBoostingRegressor(**params)\n",
    "reg.fit(X_train_val, y_train_val)\n",
    "pred_test = reg.predict(X_test)\n",
    "test_set_mse = mean_squared_error(pred_test, y_test)\n",
    "print('the test set mse is {}'.format(test_set_mse))"
   ]
  },
  {
   "cell_type": "code",
   "execution_count": 16,
   "metadata": {},
   "outputs": [],
   "source": [
    "### plot validation and test set MSE"
   ]
  },
  {
   "cell_type": "code",
   "execution_count": 17,
   "metadata": {},
   "outputs": [
    {
     "data": {
      "image/png": "[encoded data removed]",
      "text/plain": [
       "<Figure size 432x288 with 1 Axes>"
      ]
     },
     "metadata": {
      "needs_background": "light"
     },
     "output_type": "display_data"
    }
   ],
   "source": [
    "plt.figure()\n",
    "\n",
    "params = {'loss' : 'ls','n_estimators': 90, 'max_leaf_nodes': None, 'max_depth': 5, 'random_state': 2,\n",
    "                   'min_samples_split': 5,'subsample': 1.0, 'learning_rate': 0.1}\n",
    "\n",
    "reg = GradientBoostingRegressor(**params)\n",
    "reg.fit(X_train, y_train)\n",
    "\n",
    "# compute test set loss\n",
    "val_mse = np.zeros((params['n_estimators'],), dtype=np.float64)\n",
    "\n",
    "for i, y_pred in enumerate(reg.staged_predict(X_val)):\n",
    "        # clf.loss_ assumes that y_test[i] in {0, 1}\n",
    "    val_mse[i] = reg.loss_(y_val, y_pred)\n",
    "\n",
    "plt.plot((np.arange(val_mse.shape[0]) + 1)[::5], val_mse[::5],\n",
    "        '-', color='orange', label='validation set performance')\n",
    "plt.plot(90, test_set_mse, '.',color = 'blue', label = 'test set accuracy')\n",
    "\n",
    "plt.legend(loc='upper right')\n",
    "plt.xlabel('Boosting Iterations')\n",
    "plt.ylabel('Test Set MSE')\n",
    "\n",
    "plt.show()"
   ]
  },
  {
   "cell_type": "markdown",
   "metadata": {},
   "source": [
    "## test set pred vs. test set true"
   ]
  },
  {
   "cell_type": "code",
   "execution_count": 18,
   "metadata": {},
   "outputs": [
    {
     "name": "stderr",
     "output_type": "stream",
     "text": [
      "/usr/local/lib/python3.7/site-packages/scipy/stats/stats.py:1713: FutureWarning: Using a non-tuple sequence for multidimensional indexing is deprecated; use `arr[tuple(seq)]` instead of `arr[seq]`. In the future this will be interpreted as an array index, `arr[np.array(seq)]`, which will result either in an error or a different result.\n",
      "  return np.add.reduce(sorted[indexer] * weights, axis=axis) / sumval\n"
     ]
    },
    {
     "data": {
      "image/png": "[encoded data removed]",
      "text/plain": [
       "<Figure size 700x600 with 1 Axes>"
      ]
     },
     "metadata": {
      "needs_background": "light"
     },
     "output_type": "display_data"
    }
   ],
   "source": [
    "plt.subplots(figsize=(7,6), dpi=100)\n",
    "sns.distplot( pred_test ,kde=False,  color=\"dodgerblue\", label=\"pred test\")\n",
    "sns.distplot( y_test ,kde = False,  color=\"orange\", label=\"true test\")\n",
    "#bins =1000\n",
    "\n",
    "plt.title('Pred value vs. true value')\n",
    "plt.ylabel('frequency')\n",
    "plt.legend();"
   ]
  },
  {
   "cell_type": "markdown",
   "metadata": {},
   "source": [
    "#### correlation pattern between y_pred and y_true"
   ]
  },
  {
   "cell_type": "code",
   "execution_count": 51,
   "metadata": {},
   "outputs": [
    {
     "data": {
      "text/html": [
       "<div>\n",
       "<style scoped>\n",
       "    .dataframe tbody tr th:only-of-type {\n",
       "        vertical-align: middle;\n",
       "    }\n",
       "\n",
       "    .dataframe tbody tr th {\n",
       "        vertical-align: top;\n",
       "    }\n",
       "\n",
       "    .dataframe thead th {\n",
       "        text-align: right;\n",
       "    }\n",
       "</style>\n",
       "<table border=\"1\" class=\"dataframe\">\n",
       "  <thead>\n",
       "    <tr style=\"text-align: right;\">\n",
       "      <th></th>\n",
       "      <th>age</th>\n",
       "      <th>bmi</th>\n",
       "      <th>children</th>\n",
       "      <th>Sex</th>\n",
       "      <th>Smoker</th>\n",
       "      <th>region_northeast</th>\n",
       "      <th>region_northwest</th>\n",
       "      <th>region_southeast</th>\n",
       "      <th>region_southwest</th>\n",
       "      <th>charges</th>\n",
       "      <th>pred_charges</th>\n",
       "    </tr>\n",
       "  </thead>\n",
       "  <tbody>\n",
       "    <tr>\n",
       "      <td>578</td>\n",
       "      <td>52</td>\n",
       "      <td>30.200</td>\n",
       "      <td>1</td>\n",
       "      <td>1</td>\n",
       "      <td>0</td>\n",
       "      <td>0</td>\n",
       "      <td>0</td>\n",
       "      <td>0</td>\n",
       "      <td>1</td>\n",
       "      <td>9724.53000</td>\n",
       "      <td>9553.270640</td>\n",
       "    </tr>\n",
       "    <tr>\n",
       "      <td>610</td>\n",
       "      <td>47</td>\n",
       "      <td>29.370</td>\n",
       "      <td>1</td>\n",
       "      <td>0</td>\n",
       "      <td>0</td>\n",
       "      <td>0</td>\n",
       "      <td>0</td>\n",
       "      <td>1</td>\n",
       "      <td>0</td>\n",
       "      <td>8547.69130</td>\n",
       "      <td>8793.190290</td>\n",
       "    </tr>\n",
       "    <tr>\n",
       "      <td>569</td>\n",
       "      <td>48</td>\n",
       "      <td>40.565</td>\n",
       "      <td>2</td>\n",
       "      <td>1</td>\n",
       "      <td>1</td>\n",
       "      <td>0</td>\n",
       "      <td>1</td>\n",
       "      <td>0</td>\n",
       "      <td>0</td>\n",
       "      <td>45702.02235</td>\n",
       "      <td>43284.685353</td>\n",
       "    </tr>\n",
       "    <tr>\n",
       "      <td>1034</td>\n",
       "      <td>61</td>\n",
       "      <td>38.380</td>\n",
       "      <td>0</td>\n",
       "      <td>1</td>\n",
       "      <td>0</td>\n",
       "      <td>0</td>\n",
       "      <td>1</td>\n",
       "      <td>0</td>\n",
       "      <td>0</td>\n",
       "      <td>12950.07120</td>\n",
       "      <td>12645.088552</td>\n",
       "    </tr>\n",
       "    <tr>\n",
       "      <td>198</td>\n",
       "      <td>51</td>\n",
       "      <td>18.050</td>\n",
       "      <td>0</td>\n",
       "      <td>0</td>\n",
       "      <td>0</td>\n",
       "      <td>0</td>\n",
       "      <td>1</td>\n",
       "      <td>0</td>\n",
       "      <td>0</td>\n",
       "      <td>9644.25250</td>\n",
       "      <td>9052.051963</td>\n",
       "    </tr>\n",
       "  </tbody>\n",
       "</table>\n",
       "</div>"
      ],
      "text/plain": [
       "      age     bmi  children  Sex  Smoker  region_northeast  region_northwest  \\\n",
       "578    52  30.200         1    1       0                 0                 0   \n",
       "610    47  29.370         1    0       0                 0                 0   \n",
       "569    48  40.565         2    1       1                 0                 1   \n",
       "1034   61  38.380         0    1       0                 0                 1   \n",
       "198    51  18.050         0    0       0                 0                 1   \n",
       "\n",
       "      region_southeast  region_southwest      charges  pred_charges  \n",
       "578                  0                 1   9724.53000   9553.270640  \n",
       "610                  1                 0   8547.69130   8793.190290  \n",
       "569                  0                 0  45702.02235  43284.685353  \n",
       "1034                 0                 0  12950.07120  12645.088552  \n",
       "198                  0                 0   9644.25250   9052.051963  "
      ]
     },
     "execution_count": 51,
     "metadata": {},
     "output_type": "execute_result"
    }
   ],
   "source": [
    "test = pd.concat([X_test, pd.Series(y_test)],axis =1)\n",
    "test['pred_charges'] = pred_test\n",
    "test.head()"
   ]
  },
  {
   "cell_type": "code",
   "execution_count": 53,
   "metadata": {},
   "outputs": [
    {
     "data": {
      "text/plain": [
       "Text(0.5, 1.0, 'Predicted charges vs. true charges on test set stratified by smoking status')"
      ]
     },
     "execution_count": 53,
     "metadata": {},
     "output_type": "execute_result"
    },
    {
     "data": {
      "image/png": "[encoded data removed]",
      "text/plain": [
       "<Figure size 432x288 with 1 Axes>"
      ]
     },
     "metadata": {
      "needs_background": "light"
     },
     "output_type": "display_data"
    }
   ],
   "source": [
    "ax = sns.scatterplot(x=\"charges\", y=\"pred_charges\", hue=\"Smoker\",\n",
    "                     data=test)\n",
    "ax.set_title('Predicted charges vs. true charges on test set stratified by smoking status')"
   ]
  },
  {
   "cell_type": "markdown",
   "metadata": {},
   "source": [
    "#### the prediction is more accurate on smokers rather than on smokers, and in general smokers have higher charges"
   ]
  },
  {
   "cell_type": "markdown",
   "metadata": {},
   "source": [
    "### rank top predictors"
   ]
  },
  {
   "cell_type": "code",
   "execution_count": 19,
   "metadata": {},
   "outputs": [
    {
     "data": {
      "text/html": [
       "<div>\n",
       "<style scoped>\n",
       "    .dataframe tbody tr th:only-of-type {\n",
       "        vertical-align: middle;\n",
       "    }\n",
       "\n",
       "    .dataframe tbody tr th {\n",
       "        vertical-align: top;\n",
       "    }\n",
       "\n",
       "    .dataframe thead th {\n",
       "        text-align: right;\n",
       "    }\n",
       "</style>\n",
       "<table border=\"1\" class=\"dataframe\">\n",
       "  <thead>\n",
       "    <tr style=\"text-align: right;\">\n",
       "      <th></th>\n",
       "      <th>col</th>\n",
       "      <th>rank</th>\n",
       "    </tr>\n",
       "  </thead>\n",
       "  <tbody>\n",
       "    <tr>\n",
       "      <td>4</td>\n",
       "      <td>Smoker</td>\n",
       "      <td>0.647152</td>\n",
       "    </tr>\n",
       "    <tr>\n",
       "      <td>1</td>\n",
       "      <td>bmi</td>\n",
       "      <td>0.210724</td>\n",
       "    </tr>\n",
       "    <tr>\n",
       "      <td>0</td>\n",
       "      <td>age</td>\n",
       "      <td>0.115960</td>\n",
       "    </tr>\n",
       "    <tr>\n",
       "      <td>2</td>\n",
       "      <td>children</td>\n",
       "      <td>0.013210</td>\n",
       "    </tr>\n",
       "    <tr>\n",
       "      <td>5</td>\n",
       "      <td>region_northeast</td>\n",
       "      <td>0.006018</td>\n",
       "    </tr>\n",
       "    <tr>\n",
       "      <td>3</td>\n",
       "      <td>Sex</td>\n",
       "      <td>0.003160</td>\n",
       "    </tr>\n",
       "    <tr>\n",
       "      <td>6</td>\n",
       "      <td>region_northwest</td>\n",
       "      <td>0.001547</td>\n",
       "    </tr>\n",
       "    <tr>\n",
       "      <td>7</td>\n",
       "      <td>region_southeast</td>\n",
       "      <td>0.001302</td>\n",
       "    </tr>\n",
       "    <tr>\n",
       "      <td>8</td>\n",
       "      <td>region_southwest</td>\n",
       "      <td>0.000929</td>\n",
       "    </tr>\n",
       "  </tbody>\n",
       "</table>\n",
       "</div>"
      ],
      "text/plain": [
       "                col      rank\n",
       "4            Smoker  0.647152\n",
       "1               bmi  0.210724\n",
       "0               age  0.115960\n",
       "2          children  0.013210\n",
       "5  region_northeast  0.006018\n",
       "3               Sex  0.003160\n",
       "6  region_northwest  0.001547\n",
       "7  region_southeast  0.001302\n",
       "8  region_southwest  0.000929"
      ]
     },
     "execution_count": 19,
     "metadata": {},
     "output_type": "execute_result"
    }
   ],
   "source": [
    "col = data_x.columns.to_list()\n",
    "col.remove('charges')\n",
    "pd.DataFrame({'col': col, 'rank': reg.feature_importances_}).sort_values(by = \"rank\", ascending =False)"
   ]
  },
  {
   "cell_type": "code",
   "execution_count": null,
   "metadata": {},
   "outputs": [],
   "source": []
  }
 ],
 "metadata": {
  "kernelspec": {
   "display_name": "Python 3",
   "language": "python",
   "name": "python3"
  },
  "language_info": {
   "codemirror_mode": {
    "name": "ipython",
    "version": 3
   },
   "file_extension": ".py",
   "mimetype": "text/x-python",
   "name": "python",
   "nbconvert_exporter": "python",
   "pygments_lexer": "ipython3",
   "version": "3.7.4"
  }
 },
 "nbformat": 4,
 "nbformat_minor": 2
}
